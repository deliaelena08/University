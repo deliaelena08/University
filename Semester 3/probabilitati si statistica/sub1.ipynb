{
  "metadata": {
    "kernelspec": {
      "name": "python",
      "display_name": "Python (Pyodide)",
      "language": "python"
    },
    "language_info": {
      "codemirror_mode": {
        "name": "python",
        "version": 3
      },
      "file_extension": ".py",
      "mimetype": "text/x-python",
      "name": "python",
      "nbconvert_exporter": "python",
      "pygments_lexer": "ipython3",
      "version": "3.8"
    }
  },
  "nbformat_minor": 5,
  "nbformat": 4,
  "cells": [
    {
      "id": "4d4085b2-4c59-49f1-a88a-9bf01659467a",
      "cell_type": "code",
      "source": "from scipy.stats import uniform\nfrom numpy import std\nimport matplotlib.pyplot as plt\n\nx = uniform.rvs(loc=0, scale=2, size=1000)\nstd_dev = std(x)\nprint(\"Deviatia standard: \"+str(std_dev))\n\nplt.hist(x, bins=8, range=(0, 2), density=True, rwidth=0.9, color='green', edgecolor='black', alpha=0.5, label='frecvențe relative')\nplt.grid(True)\nplt.legend()\nplt.show()",
      "metadata": {
        "trusted": true
      },
      "outputs": [
        {
          "name": "stderr",
          "output_type": "stream",
          "text": "Matplotlib is building the font cache; this may take a moment.\n"
        },
        {
          "name": "stdout",
          "output_type": "stream",
          "text": "Deviatia standard: 0.5623744930376109\n"
        },
        {
          "output_type": "display_data",
          "data": {
            "text/plain": "<Figure size 640x480 with 1 Axes>",
            "image/png": "[encoded data removed]"
          },
          "metadata": {}
        }
      ],
      "execution_count": 5
    },
    {
      "id": "1b27d9fa-3972-4a26-97d9-78e72cffbde9",
      "cell_type": "code",
      "source": "\nfor index in range (10):\n    print(str(x[index])+' ')",
      "metadata": {
        "trusted": true
      },
      "outputs": [
        {
          "name": "stdout",
          "output_type": "stream",
          "text": "0.9035324789230343 \n0.893749615735697 \n1.7870744870148727 \n1.0995405706756005 \n1.6247732720190937 \n1.8670666810821255 \n0.02044336102649469 \n0.31918775282884404 \n0.6012525807344451 \n0.08910150577756415 \n"
        }
      ],
      "execution_count": 7
    },
    {
      "id": "15b92c0a-5e4c-4bde-98da-3d7a4ed9b0ad",
      "cell_type": "code",
      "source": "prob_sim=sum(1 for s in x if s*360 >=390)/len(x)\nprint(\"Probabilitatea ca timpul sa fie mai mare ca 1an si o luna este: \"+ str(prob_sim))",
      "metadata": {
        "trusted": true
      },
      "outputs": [
        {
          "name": "stdout",
          "output_type": "stream",
          "text": "Probabilitatea ca timpul sa fie mai mic ca 1an si o luna este: 0.434\n"
        }
      ],
      "execution_count": 8
    },
    {
      "id": "5b2bac96-02a0-4d76-9ec0-c71bd6f8e223",
      "cell_type": "code",
      "source": "from scipy.stats import binom\nn = 100  # numărul de becuri\np = 12 / 24  # probabilitatea ca un bec să funcționeze cel puțin un an\nprobabilitate = 1 - binom.cdf(29, n, p)  # CDF pentru X < 30, deci 1 - CDF pentru X = 29\nprint(f\"Probabilitatea ca cel puțin 30 din 100 de becuri să funcționeze cel puțin un an este: {probabilitate}\")\n",
      "metadata": {
        "trusted": true
      },
      "outputs": [
        {
          "name": "stdout",
          "output_type": "stream",
          "text": "Probabilitatea ca cel puțin 30 din 100 de becuri să funcționeze cel puțin un an este: 0.9999839199923521\n"
        }
      ],
      "execution_count": 9
    },
    {
      "id": "72792520-5181-41e6-a19d-82960e59a549",
      "cell_type": "code",
      "source": "",
      "metadata": {
        "trusted": true
      },
      "outputs": [],
      "execution_count": null
    }
  ]
}