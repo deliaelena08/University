{
  "metadata": {
    "kernelspec": {
      "name": "python",
      "display_name": "Python (Pyodide)",
      "language": "python"
    },
    "language_info": {
      "codemirror_mode": {
        "name": "python",
        "version": 3
      },
      "file_extension": ".py",
      "mimetype": "text/x-python",
      "name": "python",
      "nbconvert_exporter": "python",
      "pygments_lexer": "ipython3",
      "version": "3.8"
    }
  },
  "nbformat_minor": 4,
  "nbformat": 4,
  "cells": [
    {
      "cell_type": "code",
      "source": "from random import sample\nfrom math import factorial\nfrom itertools import permutations\n\n#ex2\nlista_permutari = permutations('word', 4)\nfor permutare in lista_permutari:\n    print(permutare)",
      "metadata": {
        "trusted": true
      },
      "outputs": [
        {
          "name": "stdout",
          "text": "('w', 'o', 'r', 'd')\n('w', 'o', 'd', 'r')\n('w', 'r', 'o', 'd')\n('w', 'r', 'd', 'o')\n('w', 'd', 'o', 'r')\n('w', 'd', 'r', 'o')\n('o', 'w', 'r', 'd')\n('o', 'w', 'd', 'r')\n('o', 'r', 'w', 'd')\n('o', 'r', 'd', 'w')\n('o', 'd', 'w', 'r')\n('o', 'd', 'r', 'w')\n('r', 'w', 'o', 'd')\n('r', 'w', 'd', 'o')\n('r', 'o', 'w', 'd')\n('r', 'o', 'd', 'w')\n('r', 'd', 'w', 'o')\n('r', 'd', 'o', 'w')\n('d', 'w', 'o', 'r')\n('d', 'w', 'r', 'o')\n('d', 'o', 'w', 'r')\n('d', 'o', 'r', 'w')\n('d', 'r', 'w', 'o')\n('d', 'r', 'o', 'w')\n",
          "output_type": "stream"
        }
      ],
      "execution_count": 2
    },
    {
      "cell_type": "code",
      "source": "factorial(4)",
      "metadata": {
        "trusted": true
      },
      "outputs": [
        {
          "execution_count": 3,
          "output_type": "execute_result",
          "data": {
            "text/plain": "24"
          },
          "metadata": {}
        }
      ],
      "execution_count": 3
    },
    {
      "cell_type": "code",
      "source": "sample(\"word\",4)",
      "metadata": {
        "trusted": true
      },
      "outputs": [
        {
          "execution_count": 4,
          "output_type": "execute_result",
          "data": {
            "text/plain": "['r', 'w', 'd', 'o']"
          },
          "metadata": {}
        }
      ],
      "execution_count": 4
    },
    {
      "cell_type": "code",
      "source": "#3) aranjamente\n\nfrom math import perm, comb\nfrom itertools import combinations\n\nlista_aranjamente = permutations('word', 2)\n#for aranjament in lista_aranjamente:\n #   print(aranjament)\n[print(p) for p in permutations(\"word\",2)]\nperm(4,2)\n",
      "metadata": {
        "trusted": true
      },
      "outputs": [
        {
          "name": "stdout",
          "text": "('w', 'o')\n('w', 'r')\n('w', 'd')\n('o', 'w')\n('o', 'r')\n('o', 'd')\n('r', 'w')\n('r', 'o')\n('r', 'd')\n('d', 'w')\n('d', 'o')\n('d', 'r')\n",
          "output_type": "stream"
        },
        {
          "execution_count": 5,
          "output_type": "execute_result",
          "data": {
            "text/plain": "12"
          },
          "metadata": {}
        }
      ],
      "execution_count": 5
    },
    {
      "cell_type": "code",
      "source": "sample(\"word\",2)",
      "metadata": {
        "trusted": true
      },
      "outputs": [
        {
          "execution_count": 6,
          "output_type": "execute_result",
          "data": {
            "text/plain": "['d', 'o']"
          },
          "metadata": {}
        }
      ],
      "execution_count": 6
    },
    {
      "cell_type": "code",
      "source": "#3) combinari\n[print(p) for p in combinations(\"word\",2)]\nprint('a')",
      "metadata": {
        "trusted": true
      },
      "outputs": [
        {
          "name": "stdout",
          "text": "('w', 'o')\n('w', 'r')\n('w', 'd')\n('o', 'r')\n('o', 'd')\n('r', 'd')\na\n",
          "output_type": "stream"
        }
      ],
      "execution_count": 8
    },
    {
      "cell_type": "code",
      "source": "comb(4,2)",
      "metadata": {
        "trusted": true
      },
      "outputs": [
        {
          "execution_count": 7,
          "output_type": "execute_result",
          "data": {
            "text/plain": "6"
          },
          "metadata": {}
        }
      ],
      "execution_count": 7
    },
    {
      "cell_type": "code",
      "source": "word = \"word\"\n\n#for i in range(len(word)):\n#    lista_litere.append(i)\nlista_litere = list(range(len(word)))\n\nlista_cifre_comb = sorted(sample(lista_litere, 2))\n[print(word[i]) for i in lista_cifre_comb]",
      "metadata": {
        "trusted": true
      },
      "outputs": [
        {
          "name": "stdout",
          "text": "w\nd\n",
          "output_type": "stream"
        },
        {
          "execution_count": 8,
          "output_type": "execute_result",
          "data": {
            "text/plain": "[None, None]"
          },
          "metadata": {}
        }
      ],
      "execution_count": 8
    },
    {
      "cell_type": "code",
      "source": "from itertools import combinations_with_replacement\n#4)\n\nlist(combinations_with_replacement(\"ABCDE\", 4))",
      "metadata": {
        "trusted": true
      },
      "outputs": [
        {
          "execution_count": 9,
          "output_type": "execute_result",
          "data": {
            "text/plain": "[('A', 'A', 'A', 'A'),\n ('A', 'A', 'A', 'B'),\n ('A', 'A', 'A', 'C'),\n ('A', 'A', 'A', 'D'),\n ('A', 'A', 'A', 'E'),\n ('A', 'A', 'B', 'B'),\n ('A', 'A', 'B', 'C'),\n ('A', 'A', 'B', 'D'),\n ('A', 'A', 'B', 'E'),\n ('A', 'A', 'C', 'C'),\n ('A', 'A', 'C', 'D'),\n ('A', 'A', 'C', 'E'),\n ('A', 'A', 'D', 'D'),\n ('A', 'A', 'D', 'E'),\n ('A', 'A', 'E', 'E'),\n ('A', 'B', 'B', 'B'),\n ('A', 'B', 'B', 'C'),\n ('A', 'B', 'B', 'D'),\n ('A', 'B', 'B', 'E'),\n ('A', 'B', 'C', 'C'),\n ('A', 'B', 'C', 'D'),\n ('A', 'B', 'C', 'E'),\n ('A', 'B', 'D', 'D'),\n ('A', 'B', 'D', 'E'),\n ('A', 'B', 'E', 'E'),\n ('A', 'C', 'C', 'C'),\n ('A', 'C', 'C', 'D'),\n ('A', 'C', 'C', 'E'),\n ('A', 'C', 'D', 'D'),\n ('A', 'C', 'D', 'E'),\n ('A', 'C', 'E', 'E'),\n ('A', 'D', 'D', 'D'),\n ('A', 'D', 'D', 'E'),\n ('A', 'D', 'E', 'E'),\n ('A', 'E', 'E', 'E'),\n ('B', 'B', 'B', 'B'),\n ('B', 'B', 'B', 'C'),\n ('B', 'B', 'B', 'D'),\n ('B', 'B', 'B', 'E'),\n ('B', 'B', 'C', 'C'),\n ('B', 'B', 'C', 'D'),\n ('B', 'B', 'C', 'E'),\n ('B', 'B', 'D', 'D'),\n ('B', 'B', 'D', 'E'),\n ('B', 'B', 'E', 'E'),\n ('B', 'C', 'C', 'C'),\n ('B', 'C', 'C', 'D'),\n ('B', 'C', 'C', 'E'),\n ('B', 'C', 'D', 'D'),\n ('B', 'C', 'D', 'E'),\n ('B', 'C', 'E', 'E'),\n ('B', 'D', 'D', 'D'),\n ('B', 'D', 'D', 'E'),\n ('B', 'D', 'E', 'E'),\n ('B', 'E', 'E', 'E'),\n ('C', 'C', 'C', 'C'),\n ('C', 'C', 'C', 'D'),\n ('C', 'C', 'C', 'E'),\n ('C', 'C', 'D', 'D'),\n ('C', 'C', 'D', 'E'),\n ('C', 'C', 'E', 'E'),\n ('C', 'D', 'D', 'D'),\n ('C', 'D', 'D', 'E'),\n ('C', 'D', 'E', 'E'),\n ('C', 'E', 'E', 'E'),\n ('D', 'D', 'D', 'D'),\n ('D', 'D', 'D', 'E'),\n ('D', 'D', 'E', 'E'),\n ('D', 'E', 'E', 'E'),\n ('E', 'E', 'E', 'E')]"
          },
          "metadata": {}
        }
      ],
      "execution_count": 9
    },
    {
      "cell_type": "code",
      "source": "#5. (Suplimentar) Scriet, i un program care a\u001cs,eaz  în câte moduri se pot a³eza 5 persoane pe\n#12 scaune astfel încât între ele s  existe cel puµin un scaun liber.\n\nnumere = [0,1,2,3,4,5,6,7,8,9,10,11]\nlista_aranjamente = permutations(numere, 5)\ncontor = 0\nfor aranjament in lista_aranjamente:\n    verif = 1\n    sort_list = sorted(aranjament)\n    for i in range(0, len(sort_list)-1):\n        if sort_list[i+1]-sort_list[i] < 2:\n            verif = 0\n    if verif:\n        contor +=1\nprint(contor)",
      "metadata": {
        "trusted": true
      },
      "outputs": [
        {
          "name": "stdout",
          "text": "6720\n",
          "output_type": "stream"
        }
      ],
      "execution_count": 14
    },
    {
      "cell_type": "code",
      "source": "",
      "metadata": {
        "trusted": true
      },
      "outputs": [],
      "execution_count": null
    }
  ]
}